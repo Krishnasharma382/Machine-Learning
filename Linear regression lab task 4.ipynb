{
 "cells": [
  {
   "cell_type": "code",
   "execution_count": null,
   "id": "3e0f2416",
   "metadata": {},
   "outputs": [],
   "source": [
    "import numpy as np\n",
    "\n",
    "# Dataset\n",
    "x = np.array([0, 1, 2, 3, 4, 5, 6, 7, 8, 9])\n",
    "y = np.array([1, 3, 2, 5, 7, 8, 8, 9, 10, 12])\n"
   ]
  },
  {
   "cell_type": "code",
   "execution_count": 2,
   "id": "1c2d02b3",
   "metadata": {},
   "outputs": [],
   "source": [
    "# Analytic Formulation\n",
    "X = np.vstack([np.ones_like(x), x]).T\n",
    "beta_analytic = np.linalg.inv(X.T.dot(X)).dot(X.T).dot(y)\n",
    "y_pred_analytic = X.dot(beta_analytic)\n",
    "SSE_analytic = np.sum((y - y_pred_analytic)**2)\n",
    "mean_y = np.mean(y)\n",
    "SST = np.sum((y - mean_y)**2)\n",
    "R_squared = 1 - SSE_analytic / SST \n"
   ]
  },
  {
   "cell_type": "code",
   "execution_count": 3,
   "id": "8d1a3d3f",
   "metadata": {},
   "outputs": [
    {
     "name": "stdout",
     "output_type": "stream",
     "text": [
      "Analytic Formulation:\n",
      "Slope (beta1): 1.1696969696969697\n",
      "Intercept (beta0): 1.236363636363636\n",
      "Sum Squared Error (SSE): 5.624242424242424\n",
      "R-squared: 0.952538038613988\n"
     ]
    }
   ],
   "source": [
    "print(\"Analytic Formulation:\")\n",
    "print(\"Slope (beta1):\", beta_analytic[1])\n",
    "print(\"Intercept (beta0):\", beta_analytic[0])\n",
    "print(\"Sum Squared Error (SSE):\", SSE_analytic)\n",
    "print(\"R-squared:\", R_squared)"
   ]
  },
  {
   "cell_type": "code",
   "execution_count": 4,
   "id": "b52d4b6e",
   "metadata": {},
   "outputs": [],
   "source": [
    "# Gradient Descent\n",
    "def gradient_descent(x, y, learning_rate, num_iterations):\n",
    "    beta = np.zeros(2)\n",
    "    for _ in range(num_iterations):\n",
    "        y_pred = beta[0] + beta[1] * x\n",
    "        error = y_pred - y\n",
    "        gradient = np.array([np.sum(error), np.sum(error * x)])\n",
    "        beta -= learning_rate * gradient\n",
    "    return beta\n"
   ]
  },
  {
   "cell_type": "code",
   "execution_count": 5,
   "id": "cd32488b",
   "metadata": {},
   "outputs": [
    {
     "name": "stderr",
     "output_type": "stream",
     "text": [
      "C:\\Users\\kanav\\AppData\\Local\\Temp\\ipykernel_13004\\3091545898.py:5: RuntimeWarning: overflow encountered in square\n",
      "  SSE_gd = np.sum((y - y_pred_gd)**2)\n"
     ]
    }
   ],
   "source": [
    "learning_rate = 0.01\n",
    "num_iterations = 1000\n",
    "beta_gd = gradient_descent(x, y, learning_rate, num_iterations)\n",
    "y_pred_gd = beta_gd[0] + beta_gd[1] * x\n",
    "SSE_gd = np.sum((y - y_pred_gd)**2)\n",
    "R_squared_gd = 1 - SSE_gd / SST"
   ]
  },
  {
   "cell_type": "code",
   "execution_count": 6,
   "id": "e039625c",
   "metadata": {},
   "outputs": [
    {
     "name": "stdout",
     "output_type": "stream",
     "text": [
      "\n",
      "Gradient Descent:\n",
      "Slope (beta1): -6.6801895302684505e+283\n",
      "Intercept (beta0): -1.0653214383595971e+283\n",
      "Sum Squared Error (SSE): inf\n",
      "R-squared: -inf\n"
     ]
    }
   ],
   "source": [
    "print(\"\\nGradient Descent:\")\n",
    "print(\"Slope (beta1):\", beta_gd[1])\n",
    "print(\"Intercept (beta0):\", beta_gd[0])\n",
    "print(\"Sum Squared Error (SSE):\", SSE_gd)\n",
    "print(\"R-squared:\", R_squared_gd)\n"
   ]
  },
  {
   "cell_type": "code",
   "execution_count": 13,
   "id": "e57325d2",
   "metadata": {},
   "outputs": [],
   "source": [
    "import numpy as np\n",
    "\n",
    "# Dataset\n",
    "x = np.array([0, 1, 2, 3, 4, 5, 6, 7, 8, 9], dtype=np.float64)\n",
    "y = np.array([1, 3, 2, 5, 7, 8, 8, 9, 10, 12], dtype=np.float64)\n",
    "x_scaled = x / np.max(x)\n",
    "y_scaled = y / np.max(y)\n"
   ]
  },
  {
   "cell_type": "code",
   "execution_count": 14,
   "id": "3d30b51e",
   "metadata": {},
   "outputs": [],
   "source": [
    "# Gradient Descent\n",
    "def gradient_descent(x, y, learning_rate, num_iterations):\n",
    "    beta = np.zeros(2)\n",
    "    for _ in range(num_iterations):\n",
    "        y_pred = beta[0] + beta[1] * x\n",
    "        error = y_pred - y\n",
    "        gradient = np.array([np.sum(error), np.sum(error * x)])\n",
    "        beta -= learning_rate * gradient\n",
    "    return beta"
   ]
  },
  {
   "cell_type": "code",
   "execution_count": 15,
   "id": "d29746b1",
   "metadata": {},
   "outputs": [],
   "source": [
    "learning_rate = 0.01\n",
    "num_iterations = 1000\n",
    "beta_gd = gradient_descent(x_scaled, y_scaled, learning_rate, num_iterations)\n",
    "y_pred_gd = beta_gd[0] + beta_gd[1] * x_scaled"
   ]
  },
  {
   "cell_type": "code",
   "execution_count": 16,
   "id": "c5cbcf46",
   "metadata": {},
   "outputs": [],
   "source": [
    "SSE_gd = np.sum((y_scaled - y_pred_gd)**2)\n",
    "R_squared_gd = 1 - SSE_gd / np.sum((y_scaled - np.mean(y_scaled))**2)"
   ]
  },
  {
   "cell_type": "code",
   "execution_count": 17,
   "id": "dc79d44e",
   "metadata": {},
   "outputs": [
    {
     "name": "stdout",
     "output_type": "stream",
     "text": [
      "\n",
      "Gradient Descent:\n",
      "Slope (beta1): 0.8770685826974333\n",
      "Intercept (beta0): 0.10314126166391761\n"
     ]
    }
   ],
   "source": [
    "print(\"\\nGradient Descent:\")\n",
    "print(\"Slope (beta1):\", beta_gd[1])\n",
    "print(\"Intercept (beta0):\", beta_gd[0])"
   ]
  },
  {
   "cell_type": "code",
   "execution_count": 18,
   "id": "af61641c",
   "metadata": {},
   "outputs": [
    {
     "name": "stdout",
     "output_type": "stream",
     "text": [
      "Sum Squared Error (SSE): 0.03905728229367752\n",
      "R-squared: 0.9525379860735058\n"
     ]
    }
   ],
   "source": [
    "print(\"Sum Squared Error (SSE):\", SSE_gd)\n",
    "print(\"R-squared:\", R_squared_gd)\n"
   ]
  },
  {
   "cell_type": "code",
   "execution_count": null,
   "id": "af1d3bbe",
   "metadata": {},
   "outputs": [],
   "source": []
  }
 ],
 "metadata": {
  "kernelspec": {
   "display_name": "Python 3 (ipykernel)",
   "language": "python",
   "name": "python3"
  },
  "language_info": {
   "codemirror_mode": {
    "name": "ipython",
    "version": 3
   },
   "file_extension": ".py",
   "mimetype": "text/x-python",
   "name": "python",
   "nbconvert_exporter": "python",
   "pygments_lexer": "ipython3",
   "version": "3.11.3"
  }
 },
 "nbformat": 4,
 "nbformat_minor": 5
}
