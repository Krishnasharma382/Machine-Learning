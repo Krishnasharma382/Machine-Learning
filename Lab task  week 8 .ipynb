{
 "cells": [
  {
   "cell_type": "code",
   "execution_count": null,
   "id": "2ff30100",
   "metadata": {},
   "outputs": [],
   "source": [
    "import math "
   ]
  },
  {
   "cell_type": "code",
   "execution_count": null,
   "id": "928c43fb",
   "metadata": {},
   "outputs": [],
   "source": [
    "def euclidean_distance(point1, point2):\n",
    "    return math.sqrt(sum([(x - y) ** 2 for x, y in zip(point1, point2)]))\n"
   ]
  },
  {
   "cell_type": "code",
   "execution_count": null,
   "id": "41bc5141",
   "metadata": {},
   "outputs": [],
   "source": [
    "def manhattan_distance(point1, point2):\n",
    "    return sum([abs(x - y) for x, y in zip(point1, point2)])\n"
   ]
  },
  {
   "cell_type": "code",
   "execution_count": null,
   "id": "bd321034",
   "metadata": {},
   "outputs": [],
   "source": [
    "def minkowski_distance(point1, point2, p=2):\n",
    "    return sum([abs(x - y) ** p for x, y in zip(point1, point2)]) ** (1/p)\n"
   ]
  },
  {
   "cell_type": "code",
   "execution_count": null,
   "id": "68a1ccc8",
   "metadata": {},
   "outputs": [],
   "source": [
    "#To take the input from the user \n",
    "point1 = [float(x) for x in input(\"Enter the first 3D point (x, y, z): \").split()]\n",
    "point2 = [float(x) for x in input(\"Enter the second 3D point (x, y, z): \").split()"
   ]
  },
  {
   "cell_type": "code",
   "execution_count": null,
   "id": "7e2f191f",
   "metadata": {},
   "outputs": [],
   "source": [
    "euclidean_dist = euclidean_distance(point1, point2)\n",
    "manhattan_dist = manhattan_distance(point1, point2)\n",
    "minkowski_dist = minkowski_distance(point1, point2)"
   ]
  },
  {
   "cell_type": "code",
   "execution_count": null,
   "id": "78cb1808",
   "metadata": {},
   "outputs": [],
   "source": [
    "print(f\"Euclidean Distance: {euclidean_dist}\")\n",
    "print(f\"Manhattan Distance: {manhattan_dist}\")\n",
    "print(f\"Minkowski Distance: {minkowski_dist}\")"
   ]
  },
  {
   "cell_type": "code",
   "execution_count": null,
   "id": "d63ddf9e",
   "metadata": {},
   "outputs": [],
   "source": []
  }
 ],
 "metadata": {
  "kernelspec": {
   "display_name": "Python 3 (ipykernel)",
   "language": "python",
   "name": "python3"
  },
  "language_info": {
   "codemirror_mode": {
    "name": "ipython",
    "version": 3
   },
   "file_extension": ".py",
   "mimetype": "text/x-python",
   "name": "python",
   "nbconvert_exporter": "python",
   "pygments_lexer": "ipython3",
   "version": "3.11.3"
  }
 },
 "nbformat": 4,
 "nbformat_minor": 5
}
